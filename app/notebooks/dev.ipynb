{
 "cells": [
  {
   "cell_type": "markdown",
   "metadata": {},
   "source": [
    "### Ingesting to graph from pgdb"
   ]
  },
  {
   "cell_type": "code",
   "execution_count": 1,
   "metadata": {},
   "outputs": [],
   "source": [
    "# from neo import NeoGraph\n",
    "# from db import Db\n",
    "\n",
    "# import pandas as pd\n",
    "\n",
    "# g = NeoGraph()\n",
    "\n",
    "# db = Db()\n",
    "# eng = db.create_engine()\n",
    "# df = pd.read_sql(\"\"\"select * from words\"\"\", eng)\n",
    "\n",
    "# df['len'] = df['characters'].apply(lambda x: len(list(x)))\n",
    "# df['c1'] = df['characters'].apply(lambda x: list(x)[0])\n",
    "# df['c2'] = df['characters'].apply(lambda x: list(x)[1] if len(x) >= 2 else None)\n",
    "# df['p1'] = df['pinyin'].apply(lambda x: x.split(' ')[0])\n",
    "# df['p2'] = df['pinyin'].apply(lambda x: x.split(' ')[1] if ' ' in x else None)\n",
    "# df['english'] = df['english'].apply(lambda x: x.replace(\"'\", \"\\\\'\"))\n",
    "# df['english_short'] = df['english'].apply(lambda x: x.split(';')[0])\n",
    "# df['descr'] = df.apply(lambda x: f\"\"\"{x['pinyin']} | {x['english_short']}\"\"\",axis = 1)\n",
    "\n",
    "# helper = []\n",
    "# chars = []\n",
    "# for i, c in df.iterrows():\n",
    "#     for h, p in zip(list(c['characters']), c['pinyin'].split(' ')):\n",
    "#         helper.append(f'{h} : {p}')\n",
    "#         chars.append(h)\n",
    "\n",
    "# g.add_characters(list(set(chars)), df)\n",
    "\n",
    "# g.create_links(df[df['len'] == 2])"
   ]
  },
  {
   "cell_type": "code",
   "execution_count": null,
   "metadata": {},
   "outputs": [],
   "source": [
    "from neo import NeoGraph\n",
    "from db import Db\n",
    "\n",
    "g = NeoGraph()\n",
    "\n",
    "import json"
   ]
  },
  {
   "cell_type": "code",
   "execution_count": 24,
   "metadata": {},
   "outputs": [],
   "source": [
    "def generate_vis_json_from_char(char='上')\n",
    "\n",
    "    out_links = g.run_query(f\"\"\"match path = (source:Character)-[link:WORD]->(target:Character)\n",
    "    where source.strokes = '{char}'\n",
    "    return source,link,target\"\"\")\n",
    "\n",
    "    in_links = g.run_query(f\"\"\"match path = (target:Character)<-[link:WORD]-(source:Character)\n",
    "    where target.strokes = '{char}'\n",
    "    return source,link,target\"\"\")\n",
    "\n",
    "    root_node = g.run_query(f\"\"\"match (n:Character)\n",
    "    where n.strokes = '{char}'\n",
    "    return distinct n\"\"\")\n",
    "\n",
    "    connected_nodes = g.run_query(f\"\"\"MATCH (n {{strokes : '{char}'}})-[:WORD]-(connected)\n",
    "    RETURN distinct connected\"\"\")\n",
    "\n",
    "    nodes = [node['n'] for node in root_node]  + [node['connected'] for node in connected_nodes]\n",
    "\n",
    "    nodesj = json.loads(json.dumps(nodes))\n",
    "\n",
    "    nodes_plt = nodesj.copy()\n",
    "\n",
    "    for x in nodes_plt:\n",
    "        x['id'] = x.pop('strokes')\n",
    "        x['label'] = x.get('id')\n",
    "        x.pop('descr', None)\n",
    "\n",
    "    nodes_out = nodes_plt.copy()\n",
    "\n",
    "    linksj = json.loads(json.dumps(out_links)) + json.loads(json.dumps(in_links))\n",
    "\n",
    "    links_plt = []\n",
    "\n",
    "    for link in linksj:\n",
    "        links_plt.append({'from':link['source']['strokes'], 'to':link['target']['strokes'], 'label' : link['link']['descr']})\n",
    "\n",
    "    out = {'nodes':nodes_out, 'edges':links_plt}\n",
    "\n",
    "    with open(f'./assets/chars/{char}.json', 'w') as outfile:\n",
    "        json.dump(out, outfile)"
   ]
  },
  {
   "cell_type": "code",
   "execution_count": null,
   "metadata": {},
   "outputs": [],
   "source": []
  }
 ],
 "metadata": {
  "kernelspec": {
   "display_name": "Python 3",
   "language": "python",
   "name": "python3"
  },
  "language_info": {
   "codemirror_mode": {
    "name": "ipython",
    "version": 3
   },
   "file_extension": ".py",
   "mimetype": "text/x-python",
   "name": "python",
   "nbconvert_exporter": "python",
   "pygments_lexer": "ipython3",
   "version": "3.6.9"
  }
 },
 "nbformat": 4,
 "nbformat_minor": 4
}
