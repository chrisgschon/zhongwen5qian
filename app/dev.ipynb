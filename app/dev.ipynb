{
 "cells": [
  {
   "cell_type": "code",
   "execution_count": 1,
   "metadata": {},
   "outputs": [],
   "source": [
    "from neo import NeoGraph\n",
    "from db import Db\n",
    "\n",
    "import pandas as pd\n",
    "\n",
    "g = NeoGraph()\n",
    "\n",
    "db = Db()\n",
    "eng = db.create_engine()\n",
    "df = pd.read_sql(\"\"\"select * from hsk5k\"\"\", eng)"
   ]
  },
  {
   "cell_type": "code",
   "execution_count": 2,
   "metadata": {},
   "outputs": [],
   "source": [
    "df['len'] = df['characters'].apply(lambda x: len(list(x)))\n",
    "df['c1'] = df['characters'].apply(lambda x: list(x)[0])\n",
    "df['c2'] = df['characters'].apply(lambda x: list(x)[1] if len(x) >= 2 else None)\n",
    "df['p1'] = df['pinyin'].apply(lambda x: x.split(' ')[0])\n",
    "df['p2'] = df['pinyin'].apply(lambda x: x.split(' ')[1] if ' ' in x else None)\n",
    "df['english'] = df['english'].apply(lambda x: x.replace(\"'\", \"\\\\'\"))\n",
    "df['english_short'] = df['english'].apply(lambda x: x.split(';')[0])\n",
    "df['descr'] = df.apply(lambda x: f\"\"\"{x['pinyin']} | {x['english_short']}\"\"\",axis = 1)"
   ]
  },
  {
   "cell_type": "code",
   "execution_count": null,
   "metadata": {},
   "outputs": [],
   "source": []
  },
  {
   "cell_type": "code",
   "execution_count": 3,
   "metadata": {},
   "outputs": [
    {
     "data": {
      "text/html": [
       "<div>\n",
       "<style scoped>\n",
       "    .dataframe tbody tr th:only-of-type {\n",
       "        vertical-align: middle;\n",
       "    }\n",
       "\n",
       "    .dataframe tbody tr th {\n",
       "        vertical-align: top;\n",
       "    }\n",
       "\n",
       "    .dataframe thead th {\n",
       "        text-align: right;\n",
       "    }\n",
       "</style>\n",
       "<table border=\"1\" class=\"dataframe\">\n",
       "  <thead>\n",
       "    <tr style=\"text-align: right;\">\n",
       "      <th></th>\n",
       "      <th>hsk</th>\n",
       "      <th>characters</th>\n",
       "      <th>pinyin</th>\n",
       "      <th>english</th>\n",
       "      <th>len</th>\n",
       "      <th>c1</th>\n",
       "      <th>c2</th>\n",
       "      <th>p1</th>\n",
       "      <th>p2</th>\n",
       "      <th>english_short</th>\n",
       "      <th>descr</th>\n",
       "    </tr>\n",
       "  </thead>\n",
       "  <tbody>\n",
       "    <tr>\n",
       "      <th>0</th>\n",
       "      <td>3</td>\n",
       "      <td>阿姨</td>\n",
       "      <td>a1 yi2</td>\n",
       "      <td>maternal aunt; step-mother; childcare worker; ...</td>\n",
       "      <td>2</td>\n",
       "      <td>阿</td>\n",
       "      <td>姨</td>\n",
       "      <td>a1</td>\n",
       "      <td>yi2</td>\n",
       "      <td>maternal aunt</td>\n",
       "      <td>a1 yi2 | maternal aunt</td>\n",
       "    </tr>\n",
       "    <tr>\n",
       "      <th>1</th>\n",
       "      <td>3</td>\n",
       "      <td>啊</td>\n",
       "      <td>a5</td>\n",
       "      <td>modal particle ending sentence, showing affirm...</td>\n",
       "      <td>1</td>\n",
       "      <td>啊</td>\n",
       "      <td>None</td>\n",
       "      <td>a5</td>\n",
       "      <td>None</td>\n",
       "      <td>modal particle ending sentence, showing affirm...</td>\n",
       "      <td>a5 | modal particle ending sentence, showing a...</td>\n",
       "    </tr>\n",
       "    <tr>\n",
       "      <th>2</th>\n",
       "      <td>5</td>\n",
       "      <td>唉</td>\n",
       "      <td>ai1</td>\n",
       "      <td>interjection or grunt of agreement or recognit...</td>\n",
       "      <td>1</td>\n",
       "      <td>唉</td>\n",
       "      <td>None</td>\n",
       "      <td>ai1</td>\n",
       "      <td>None</td>\n",
       "      <td>interjection or grunt of agreement or recognit...</td>\n",
       "      <td>ai1 | interjection or grunt of agreement or re...</td>\n",
       "    </tr>\n",
       "    <tr>\n",
       "      <th>3</th>\n",
       "      <td>6</td>\n",
       "      <td>哎哟</td>\n",
       "      <td>ai1 yo1</td>\n",
       "      <td>hey; ow; ouch; interjection of pain or surprise</td>\n",
       "      <td>2</td>\n",
       "      <td>哎</td>\n",
       "      <td>哟</td>\n",
       "      <td>ai1</td>\n",
       "      <td>yo1</td>\n",
       "      <td>hey</td>\n",
       "      <td>ai1 yo1 | hey</td>\n",
       "    </tr>\n",
       "    <tr>\n",
       "      <th>4</th>\n",
       "      <td>6</td>\n",
       "      <td>挨</td>\n",
       "      <td>ai2</td>\n",
       "      <td>to suffer from; to endure; to tide over (a dif...</td>\n",
       "      <td>1</td>\n",
       "      <td>挨</td>\n",
       "      <td>None</td>\n",
       "      <td>ai2</td>\n",
       "      <td>None</td>\n",
       "      <td>to suffer from</td>\n",
       "      <td>ai2 | to suffer from</td>\n",
       "    </tr>\n",
       "    <tr>\n",
       "      <th>...</th>\n",
       "      <td>...</td>\n",
       "      <td>...</td>\n",
       "      <td>...</td>\n",
       "      <td>...</td>\n",
       "      <td>...</td>\n",
       "      <td>...</td>\n",
       "      <td>...</td>\n",
       "      <td>...</td>\n",
       "      <td>...</td>\n",
       "      <td>...</td>\n",
       "      <td>...</td>\n",
       "    </tr>\n",
       "    <tr>\n",
       "      <th>4997</th>\n",
       "      <td>6</td>\n",
       "      <td>作息</td>\n",
       "      <td>zuo4 xi1</td>\n",
       "      <td>work and rest</td>\n",
       "      <td>2</td>\n",
       "      <td>作</td>\n",
       "      <td>息</td>\n",
       "      <td>zuo4</td>\n",
       "      <td>xi1</td>\n",
       "      <td>work and rest</td>\n",
       "      <td>zuo4 xi1 | work and rest</td>\n",
       "    </tr>\n",
       "    <tr>\n",
       "      <th>4998</th>\n",
       "      <td>3</td>\n",
       "      <td>作业</td>\n",
       "      <td>zuo4 ye4</td>\n",
       "      <td>school assignment; homework; work; task; opera...</td>\n",
       "      <td>2</td>\n",
       "      <td>作</td>\n",
       "      <td>业</td>\n",
       "      <td>zuo4</td>\n",
       "      <td>ye4</td>\n",
       "      <td>school assignment</td>\n",
       "      <td>zuo4 ye4 | school assignment</td>\n",
       "    </tr>\n",
       "    <tr>\n",
       "      <th>4999</th>\n",
       "      <td>3</td>\n",
       "      <td>作用</td>\n",
       "      <td>zuo4 yong4</td>\n",
       "      <td>to act on; to affect; action; function; activi...</td>\n",
       "      <td>2</td>\n",
       "      <td>作</td>\n",
       "      <td>用</td>\n",
       "      <td>zuo4</td>\n",
       "      <td>yong4</td>\n",
       "      <td>to act on</td>\n",
       "      <td>zuo4 yong4 | to act on</td>\n",
       "    </tr>\n",
       "    <tr>\n",
       "      <th>5000</th>\n",
       "      <td>6</td>\n",
       "      <td>座右铭</td>\n",
       "      <td>zuo4 you4 ming2</td>\n",
       "      <td>motto; maxim</td>\n",
       "      <td>3</td>\n",
       "      <td>座</td>\n",
       "      <td>右</td>\n",
       "      <td>zuo4</td>\n",
       "      <td>you4</td>\n",
       "      <td>motto</td>\n",
       "      <td>zuo4 you4 ming2 | motto</td>\n",
       "    </tr>\n",
       "    <tr>\n",
       "      <th>5001</th>\n",
       "      <td>4</td>\n",
       "      <td>作者</td>\n",
       "      <td>zuo4 zhe3</td>\n",
       "      <td>author; writer; CL:個|个[ge4]</td>\n",
       "      <td>2</td>\n",
       "      <td>作</td>\n",
       "      <td>者</td>\n",
       "      <td>zuo4</td>\n",
       "      <td>zhe3</td>\n",
       "      <td>author</td>\n",
       "      <td>zuo4 zhe3 | author</td>\n",
       "    </tr>\n",
       "  </tbody>\n",
       "</table>\n",
       "<p>5002 rows × 11 columns</p>\n",
       "</div>"
      ],
      "text/plain": [
       "      hsk characters           pinyin  \\\n",
       "0       3         阿姨           a1 yi2   \n",
       "1       3          啊               a5   \n",
       "2       5          唉              ai1   \n",
       "3       6         哎哟          ai1 yo1   \n",
       "4       6          挨              ai2   \n",
       "...   ...        ...              ...   \n",
       "4997    6         作息         zuo4 xi1   \n",
       "4998    3         作业         zuo4 ye4   \n",
       "4999    3         作用       zuo4 yong4   \n",
       "5000    6        座右铭  zuo4 you4 ming2   \n",
       "5001    4         作者        zuo4 zhe3   \n",
       "\n",
       "                                                english  len c1    c2    p1  \\\n",
       "0     maternal aunt; step-mother; childcare worker; ...    2  阿     姨    a1   \n",
       "1     modal particle ending sentence, showing affirm...    1  啊  None    a5   \n",
       "2     interjection or grunt of agreement or recognit...    1  唉  None   ai1   \n",
       "3       hey; ow; ouch; interjection of pain or surprise    2  哎     哟   ai1   \n",
       "4     to suffer from; to endure; to tide over (a dif...    1  挨  None   ai2   \n",
       "...                                                 ...  ... ..   ...   ...   \n",
       "4997                                      work and rest    2  作     息  zuo4   \n",
       "4998  school assignment; homework; work; task; opera...    2  作     业  zuo4   \n",
       "4999  to act on; to affect; action; function; activi...    2  作     用  zuo4   \n",
       "5000                                       motto; maxim    3  座     右  zuo4   \n",
       "5001                        author; writer; CL:個|个[ge4]    2  作     者  zuo4   \n",
       "\n",
       "         p2                                      english_short  \\\n",
       "0       yi2                                      maternal aunt   \n",
       "1      None  modal particle ending sentence, showing affirm...   \n",
       "2      None  interjection or grunt of agreement or recognit...   \n",
       "3       yo1                                                hey   \n",
       "4      None                                     to suffer from   \n",
       "...     ...                                                ...   \n",
       "4997    xi1                                      work and rest   \n",
       "4998    ye4                                  school assignment   \n",
       "4999  yong4                                          to act on   \n",
       "5000   you4                                              motto   \n",
       "5001   zhe3                                             author   \n",
       "\n",
       "                                                  descr  \n",
       "0                                a1 yi2 | maternal aunt  \n",
       "1     a5 | modal particle ending sentence, showing a...  \n",
       "2     ai1 | interjection or grunt of agreement or re...  \n",
       "3                                         ai1 yo1 | hey  \n",
       "4                                  ai2 | to suffer from  \n",
       "...                                                 ...  \n",
       "4997                           zuo4 xi1 | work and rest  \n",
       "4998                       zuo4 ye4 | school assignment  \n",
       "4999                             zuo4 yong4 | to act on  \n",
       "5000                            zuo4 you4 ming2 | motto  \n",
       "5001                                 zuo4 zhe3 | author  \n",
       "\n",
       "[5002 rows x 11 columns]"
      ]
     },
     "execution_count": 3,
     "metadata": {},
     "output_type": "execute_result"
    }
   ],
   "source": [
    "df"
   ]
  },
  {
   "cell_type": "code",
   "execution_count": 4,
   "metadata": {},
   "outputs": [
    {
     "data": {
      "text/plain": [
       "c1\n",
       "不    37\n",
       "一    25\n",
       "发    25\n",
       "公    23\n",
       "无    21\n",
       "打    21\n",
       "对    19\n",
       "反    18\n",
       "人    18\n",
       "大    17\n",
       "dtype: int64"
      ]
     },
     "execution_count": 4,
     "metadata": {},
     "output_type": "execute_result"
    }
   ],
   "source": [
    "df.groupby('c1').size().sort_values(ascending=False)[:10]"
   ]
  },
  {
   "cell_type": "code",
   "execution_count": 5,
   "metadata": {},
   "outputs": [
    {
     "data": {
      "text/plain": [
       "c2\n",
       "子    53\n",
       "心    32\n",
       "气    25\n",
       "理    24\n",
       "力    23\n",
       "动    22\n",
       "然    21\n",
       "不    21\n",
       "定    19\n",
       "实    19\n",
       "dtype: int64"
      ]
     },
     "execution_count": 5,
     "metadata": {},
     "output_type": "execute_result"
    }
   ],
   "source": [
    "df.groupby('c2').size().sort_values(ascending=False)[:10]"
   ]
  },
  {
   "cell_type": "code",
   "execution_count": 6,
   "metadata": {},
   "outputs": [],
   "source": [
    "helper = []\n",
    "chars = []\n",
    "for i, c in df.iterrows():\n",
    "    for h, p in zip(list(c['characters']), c['pinyin'].split(' ')):\n",
    "        helper.append(f'{h} : {p}')\n",
    "        chars.append(h)\n",
    "        "
   ]
  },
  {
   "cell_type": "code",
   "execution_count": 7,
   "metadata": {},
   "outputs": [],
   "source": [
    "from collections import Counter, OrderedDict"
   ]
  },
  {
   "cell_type": "code",
   "execution_count": 8,
   "metadata": {},
   "outputs": [
    {
     "name": "stdout",
     "output_type": "stream",
     "text": [
      "----- Truncating graph -----\n"
     ]
    },
    {
     "data": {
      "text/plain": [
       "<py2neo.database.Cursor at 0x7f3a49eb44e0>"
      ]
     },
     "execution_count": 8,
     "metadata": {},
     "output_type": "execute_result"
    }
   ],
   "source": [
    "g.truncate()"
   ]
  },
  {
   "cell_type": "code",
   "execution_count": 9,
   "metadata": {},
   "outputs": [
    {
     "name": "stderr",
     "output_type": "stream",
     "text": [
      "  0%|          | 13/2634 [00:00<00:20, 129.40it/s]"
     ]
    },
    {
     "name": "stdout",
     "output_type": "stream",
     "text": [
      "----- Adding chars -----\n"
     ]
    },
    {
     "name": "stderr",
     "output_type": "stream",
     "text": [
      "100%|██████████| 2634/2634 [00:07<00:00, 362.39it/s]\n"
     ]
    },
    {
     "name": "stdout",
     "output_type": "stream",
     "text": [
      "----- Done -----\n"
     ]
    }
   ],
   "source": [
    "g.add_characters(list(set(chars)), df)"
   ]
  },
  {
   "cell_type": "code",
   "execution_count": 10,
   "metadata": {},
   "outputs": [
    {
     "name": "stderr",
     "output_type": "stream",
     "text": [
      "  0%|          | 13/4025 [00:00<00:31, 127.31it/s]"
     ]
    },
    {
     "name": "stdout",
     "output_type": "stream",
     "text": [
      "----- Linking two character words -----\n"
     ]
    },
    {
     "name": "stderr",
     "output_type": "stream",
     "text": [
      "100%|██████████| 4025/4025 [00:19<00:00, 206.33it/s]"
     ]
    },
    {
     "name": "stdout",
     "output_type": "stream",
     "text": [
      "----- Done -----\n"
     ]
    },
    {
     "name": "stderr",
     "output_type": "stream",
     "text": [
      "\n"
     ]
    }
   ],
   "source": [
    "g.create_links(df[df['len'] == 2])"
   ]
  },
  {
   "cell_type": "code",
   "execution_count": null,
   "metadata": {},
   "outputs": [],
   "source": []
  }
 ],
 "metadata": {
  "kernelspec": {
   "display_name": "Python 3",
   "language": "python",
   "name": "python3"
  },
  "language_info": {
   "codemirror_mode": {
    "name": "ipython",
    "version": 3
   },
   "file_extension": ".py",
   "mimetype": "text/x-python",
   "name": "python",
   "nbconvert_exporter": "python",
   "pygments_lexer": "ipython3",
   "version": "3.6.9"
  }
 },
 "nbformat": 4,
 "nbformat_minor": 2
}
