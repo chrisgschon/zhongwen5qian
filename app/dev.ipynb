{
 "cells": [
  {
   "cell_type": "code",
   "execution_count": 2,
   "metadata": {},
   "outputs": [],
   "source": [
    "from neo import NeoGraph\n",
    "from db import Db\n",
    "\n",
    "import pandas as pd\n",
    "\n",
    "g = NeoGraph()\n",
    "\n",
    "db = Db()\n",
    "eng = db.create_engine()\n",
    "df = pd.read_sql(\"\"\"select * from words\"\"\", eng)\n",
    "\n",
    "df['len'] = df['characters'].apply(lambda x: len(list(x)))\n",
    "df['c1'] = df['characters'].apply(lambda x: list(x)[0])\n",
    "df['c2'] = df['characters'].apply(lambda x: list(x)[1] if len(x) >= 2 else None)\n",
    "df['p1'] = df['pinyin'].apply(lambda x: x.split(' ')[0])\n",
    "df['p2'] = df['pinyin'].apply(lambda x: x.split(' ')[1] if ' ' in x else None)\n",
    "df['english'] = df['english'].apply(lambda x: x.replace(\"'\", \"\\\\'\"))\n",
    "df['english_short'] = df['english'].apply(lambda x: x.split(';')[0])\n",
    "df['descr'] = df.apply(lambda x: f\"\"\"{x['pinyin']} | {x['english_short']}\"\"\",axis = 1)\n",
    "\n",
    "helper = []\n",
    "chars = []\n",
    "for i, c in df.iterrows():\n",
    "    for h, p in zip(list(c['characters']), c['pinyin'].split(' ')):\n",
    "        helper.append(f'{h} : {p}')\n",
    "        chars.append(h)\n",
    "\n",
    "g.add_characters(list(set(chars)), df)\n",
    "\n",
    "g.create_links(df[df['len'] == 2])"
   ]
  },
  {
   "cell_type": "code",
   "execution_count": null,
   "metadata": {},
   "outputs": [],
   "source": []
  }
 ],
 "metadata": {
  "kernelspec": {
   "display_name": "Python 3",
   "language": "python",
   "name": "python3"
  },
  "language_info": {
   "codemirror_mode": {
    "name": "ipython",
    "version": 3
   },
   "file_extension": ".py",
   "mimetype": "text/x-python",
   "name": "python",
   "nbconvert_exporter": "python",
   "pygments_lexer": "ipython3",
   "version": "3.6.9"
  }
 },
 "nbformat": 4,
 "nbformat_minor": 2
}
