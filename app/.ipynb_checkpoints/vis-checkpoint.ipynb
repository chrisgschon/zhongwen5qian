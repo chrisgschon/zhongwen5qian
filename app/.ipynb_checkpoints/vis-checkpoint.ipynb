{
 "cells": [
  {
   "cell_type": "markdown",
   "metadata": {},
   "source": [
    "## Notebook to visualise the interactive graph network"
   ]
  },
  {
   "cell_type": "code",
   "execution_count": 6,
   "metadata": {},
   "outputs": [],
   "source": [
    "from IPython.core.display import display, HTML, Javascript\n",
    "from string import Template\n",
    "import json\n",
    "\n",
    "# Select the file you want to visualise\n",
    "with open(f\"shang4.json\") as json_file:\n",
    "    data = json.load(json_file)\n",
    "\n",
    "# Transform the graph into a JSON graph\n",
    "jsonGraph = json.dumps(data, indent=4)\n",
    "\n",
    "# Send to Javascript\n",
    "Javascript(\"\"\"window.jsonGraph={};\"\"\".format(jsonGraph))\n",
    "\n",
    "html = \"\"\"\n",
    "<script src='https://visjs.github.io/vis-network/standalone/umd/vis-network.min.js'></script>\n",
    "<div id=\"mynetwork\"></div>\n",
    "<script>\n",
    "    // create a network\n",
    "    var container = document.getElementById('mynetwork');\n",
    "    var options = { width : '800px', height : '600px',\n",
    "      \"edges\": {\n",
    "        \"arrows\": {\n",
    "          \"to\": {\n",
    "            \"enabled\": true,\n",
    "            \"scaleFactor\": 0.7\n",
    "          }\n",
    "        },\n",
    "        \"color\": {\n",
    "          \"opacity\": 0.4\n",
    "        },\n",
    "        \"font\": {\n",
    "          \"size\": 7,\n",
    "          \"face\": \"verdana\",\n",
    "          \"align\": \"top\"\n",
    "        },\n",
    "        \"selfReferenceSize\": null,\n",
    "        \"selfReference\": {\n",
    "          \"angle\": 0.7853981633974483\n",
    "        },\n",
    "        \"smooth\": {\n",
    "          \"forceDirection\": \"none\"\n",
    "        }\n",
    "      },\n",
    "      \"physics\": {\n",
    "        \"minVelocity\": 0.75\n",
    "      }\n",
    "    }\n",
    "            ;\n",
    "    \n",
    "    // We load the JSON graph we generated from iPython input\n",
    "    var graph = window.jsonGraph;\n",
    "    \n",
    "    // Display Graph\n",
    "    var network = new vis.Network(container, graph, options);\n",
    "</script>\"\"\""
   ]
  },
  {
   "cell_type": "code",
   "execution_count": 4,
   "metadata": {},
   "outputs": [
    {
     "data": {
      "text/html": [
       "<script src='https://visjs.github.io/vis-network/standalone/umd/vis-network.min.js'></script>\n",
       "<div id=\"mynetwork\"></div>\n",
       "<script>\n",
       "    // create a network\n",
       "    var container = document.getElementById('mynetwork');\n",
       "    var options = {configure : 'nodes,edges,layout,physics'}  ;\n",
       "    \n",
       "    // We load the JSON graph we generated from iPython input\n",
       "    var graph = window.jsonGraph;\n",
       "    \n",
       "    // Display Graph\n",
       "    var network = new vis.Network(container, graph, options);\n",
       "</script>\n"
      ],
      "text/plain": [
       "<IPython.core.display.HTML object>"
      ]
     },
     "metadata": {},
     "output_type": "display_data"
    }
   ],
   "source": [
    "%%html\n",
    "<script src='https://visjs.github.io/vis-network/standalone/umd/vis-network.min.js'></script>\n",
    "<div id=\"mynetwork\"></div>\n",
    "<script>\n",
    "    // create a network\n",
    "    var container = document.getElementById('mynetwork');\n",
    "    var options = {configure : 'nodes,edges,layout,physics'}  ;\n",
    "    \n",
    "    // We load the JSON graph we generated from iPython input\n",
    "    var graph = window.jsonGraph;\n",
    "    \n",
    "    // Display Graph\n",
    "    var network = new vis.Network(container, graph, options);\n",
    "</script>"
   ]
  },
  {
   "cell_type": "code",
   "execution_count": null,
   "metadata": {},
   "outputs": [],
   "source": []
  }
 ],
 "metadata": {
  "kernelspec": {
   "display_name": "Python 3",
   "language": "python",
   "name": "python3"
  },
  "language_info": {
   "codemirror_mode": {
    "name": "ipython",
    "version": 3
   },
   "file_extension": ".py",
   "mimetype": "text/x-python",
   "name": "python",
   "nbconvert_exporter": "python",
   "pygments_lexer": "ipython3",
   "version": "3.6.9"
  }
 },
 "nbformat": 4,
 "nbformat_minor": 4
}
