{
 "cells": [
  {
   "cell_type": "markdown",
   "metadata": {},
   "source": [
    "## Notebook to visualise the interactive graph network"
   ]
  },
  {
   "cell_type": "code",
   "execution_count": 1,
   "metadata": {},
   "outputs": [
    {
     "data": {
      "application/javascript": [
       "window.jsonGraph={\n",
       "    \"nodes\": [\n",
       "        {\n",
       "            \"id\": \"\\u4e0a\",\n",
       "            \"label\": \"\\u4e0a\"\n",
       "        },\n",
       "        {\n",
       "            \"id\": \"\\u65e9\",\n",
       "            \"label\": \"\\u65e9\"\n",
       "        },\n",
       "        {\n",
       "            \"id\": \"\\u665a\",\n",
       "            \"label\": \"\\u665a\"\n",
       "        },\n",
       "        {\n",
       "            \"id\": \"\\u6e38\",\n",
       "            \"label\": \"\\u6e38\"\n",
       "        },\n",
       "        {\n",
       "            \"id\": \"\\u763e\",\n",
       "            \"label\": \"\\u763e\"\n",
       "        },\n",
       "        {\n",
       "            \"id\": \"\\u5348\",\n",
       "            \"label\": \"\\u5348\"\n",
       "        },\n",
       "        {\n",
       "            \"id\": \"\\u7f51\",\n",
       "            \"label\": \"\\u7f51\"\n",
       "        },\n",
       "        {\n",
       "            \"id\": \"\\u4efb\",\n",
       "            \"label\": \"\\u4efb\"\n",
       "        },\n",
       "        {\n",
       "            \"id\": \"\\u7ea7\",\n",
       "            \"label\": \"\\u7ea7\"\n",
       "        },\n",
       "        {\n",
       "            \"id\": \"\\u5f53\",\n",
       "            \"label\": \"\\u5f53\"\n",
       "        },\n",
       "        {\n",
       "            \"id\": \"\\u73ed\",\n",
       "            \"label\": \"\\u73ed\"\n",
       "        },\n",
       "        {\n",
       "            \"id\": \"\\u9a6c\",\n",
       "            \"label\": \"\\u9a6c\"\n",
       "        }\n",
       "    ],\n",
       "    \"edges\": [\n",
       "        {\n",
       "            \"from\": \"\\u4e0a\",\n",
       "            \"to\": \"\\u6e38\",\n",
       "            \"label\": \"shang4 you2 | upper reaches\"\n",
       "        },\n",
       "        {\n",
       "            \"from\": \"\\u4e0a\",\n",
       "            \"to\": \"\\u763e\",\n",
       "            \"label\": \"shang4 yin3 | to get into a habit\"\n",
       "        },\n",
       "        {\n",
       "            \"from\": \"\\u4e0a\",\n",
       "            \"to\": \"\\u5348\",\n",
       "            \"label\": \"shang4 wu3 | morning\"\n",
       "        },\n",
       "        {\n",
       "            \"from\": \"\\u4e0a\",\n",
       "            \"to\": \"\\u7f51\",\n",
       "            \"label\": \"shang4 wang3 | to be on the internet\"\n",
       "        },\n",
       "        {\n",
       "            \"from\": \"\\u4e0a\",\n",
       "            \"to\": \"\\u4efb\",\n",
       "            \"label\": \"shang4 ren4 | take office\"\n",
       "        },\n",
       "        {\n",
       "            \"from\": \"\\u4e0a\",\n",
       "            \"to\": \"\\u7ea7\",\n",
       "            \"label\": \"shang4 ji2 | higher authorities\"\n",
       "        },\n",
       "        {\n",
       "            \"from\": \"\\u4e0a\",\n",
       "            \"to\": \"\\u5f53\",\n",
       "            \"label\": \"shang4 dang4 | taken in (by sb's deceit)\"\n",
       "        },\n",
       "        {\n",
       "            \"from\": \"\\u4e0a\",\n",
       "            \"to\": \"\\u73ed\",\n",
       "            \"label\": \"shang4 ban1 | to go to work\"\n",
       "        },\n",
       "        {\n",
       "            \"from\": \"\\u65e9\",\n",
       "            \"to\": \"\\u4e0a\",\n",
       "            \"label\": \"zao3 shang5 | early morning\"\n",
       "        },\n",
       "        {\n",
       "            \"from\": \"\\u665a\",\n",
       "            \"to\": \"\\u4e0a\",\n",
       "            \"label\": \"wan3 shang5 | in the evening\"\n",
       "        },\n",
       "        {\n",
       "            \"from\": \"\\u9a6c\",\n",
       "            \"to\": \"\\u4e0a\",\n",
       "            \"label\": \"ma3 shang4 | at once, right away, immediately\"\n",
       "        }\n",
       "    ]\n",
       "};"
      ],
      "text/plain": [
       "<IPython.core.display.Javascript object>"
      ]
     },
     "execution_count": 1,
     "metadata": {},
     "output_type": "execute_result"
    }
   ],
   "source": [
    "from IPython.core.display import display, HTML, Javascript\n",
    "from string import Template\n",
    "import json\n",
    "\n",
    "# Select the file you want to visualise\n",
    "with open(f\"assets/chars/上.json\") as json_file:\n",
    "    data = json.load(json_file)\n",
    "\n",
    "# Transform the graph into a JSON graph\n",
    "jsonGraph = json.dumps(data, indent=4)\n",
    "\n",
    "# Send to Javascript\n",
    "Javascript(\"\"\"window.jsonGraph={};\"\"\".format(jsonGraph))"
   ]
  },
  {
   "cell_type": "code",
   "execution_count": 2,
   "metadata": {},
   "outputs": [],
   "source": [
    "import networkx as nx\n",
    "import pandas as pd\n",
    "import holoviews as hv"
   ]
  },
  {
   "cell_type": "code",
   "execution_count": 3,
   "metadata": {},
   "outputs": [],
   "source": [
    "df = pd.DataFrame(data['edges'])"
   ]
  },
  {
   "cell_type": "code",
   "execution_count": 4,
   "metadata": {},
   "outputs": [],
   "source": [
    "g = nx.from_pandas_edgelist(df, source='from', target='to', edge_attr=['label'], create_using=None, edge_key=None)"
   ]
  },
  {
   "cell_type": "code",
   "execution_count": 7,
   "metadata": {},
   "outputs": [
    {
     "data": {
      "text/html": [
       "<script src='https://visjs.github.io/vis-network/standalone/umd/vis-network.min.js'></script>\n",
       "<div id=\"mynetwork\"></div>\n",
       "<script>\n",
       "    // create a network\n",
       "    var container = document.getElementById('mynetwork');\n",
       "    var options = { width : '800px', height : '600px',\n",
       "      \"edges\": {\n",
       "        \"arrows\": {\n",
       "          \"to\": {\n",
       "            \"enabled\": true,\n",
       "            \"scaleFactor\": 0.7\n",
       "          }\n",
       "        },\n",
       "        \"color\": {\n",
       "          \"opacity\": 0.4\n",
       "        },\n",
       "        \"font\": {\n",
       "          \"size\": 7,\n",
       "          \"face\": \"verdana\",\n",
       "          \"align\": \"top\"\n",
       "        },\n",
       "        \"selfReferenceSize\": null,\n",
       "        \"selfReference\": {\n",
       "          \"angle\": 0.7853981633974483\n",
       "        },\n",
       "        \"smooth\": {\n",
       "          \"forceDirection\": \"none\"\n",
       "        }\n",
       "      },\n",
       "      \"physics\": {\n",
       "        \"minVelocity\": 0.75\n",
       "      }\n",
       "    }\n",
       "            ;\n",
       "    \n",
       "    // We load the JSON graph we generated from iPython input\n",
       "    var graph = window.jsonGraph;\n",
       "    \n",
       "    // Display Graph\n",
       "    var network = new vis.Network(container, graph, options);\n",
       "</script>\n"
      ],
      "text/plain": [
       "<IPython.core.display.HTML object>"
      ]
     },
     "metadata": {},
     "output_type": "display_data"
    }
   ],
   "source": [
    "%%html\n",
    "<script src='https://visjs.github.io/vis-network/standalone/umd/vis-network.min.js'></script>\n",
    "<div id=\"mynetwork\"></div>\n",
    "<script>\n",
    "    // create a network\n",
    "    var container = document.getElementById('mynetwork');\n",
    "    var options = { width : '800px', height : '600px',\n",
    "      \"edges\": {\n",
    "        \"arrows\": {\n",
    "          \"to\": {\n",
    "            \"enabled\": true,\n",
    "            \"scaleFactor\": 0.7\n",
    "          }\n",
    "        },\n",
    "        \"color\": {\n",
    "          \"opacity\": 0.4\n",
    "        },\n",
    "        \"font\": {\n",
    "          \"size\": 7,\n",
    "          \"face\": \"verdana\",\n",
    "          \"align\": \"top\"\n",
    "        },\n",
    "        \"selfReferenceSize\": null,\n",
    "        \"selfReference\": {\n",
    "          \"angle\": 0.7853981633974483\n",
    "        },\n",
    "        \"smooth\": {\n",
    "          \"forceDirection\": \"none\"\n",
    "        }\n",
    "      },\n",
    "      \"physics\": {\n",
    "        \"minVelocity\": 0.75\n",
    "      }\n",
    "    }\n",
    "            ;\n",
    "    \n",
    "    // We load the JSON graph we generated from iPython input\n",
    "    var graph = window.jsonGraph;\n",
    "    \n",
    "    // Display Graph\n",
    "    var network = new vis.Network(container, graph, options);\n",
    "</script>"
   ]
  },
  {
   "cell_type": "code",
   "execution_count": 8,
   "metadata": {},
   "outputs": [
    {
     "data": {
      "text/html": [
       "<script src='https://visjs.github.io/vis-network/standalone/umd/vis-network.min.js'></script>\n",
       "<div id=\"mynetwork\"></div>\n",
       "<script>\n",
       "    // create a network\n",
       "    var container = document.getElementById('mynetwork');\n",
       "    var options = {configure : 'nodes,edges,layout,physics'}  ;\n",
       "    \n",
       "    // We load the JSON graph we generated from iPython input\n",
       "    var graph = window.jsonGraph;\n",
       "    \n",
       "    // Display Graph\n",
       "    var network = new vis.Network(container, graph, options);\n",
       "</script>\n"
      ],
      "text/plain": [
       "<IPython.core.display.HTML object>"
      ]
     },
     "metadata": {},
     "output_type": "display_data"
    }
   ],
   "source": [
    "%%html\n",
    "<script src='https://visjs.github.io/vis-network/standalone/umd/vis-network.min.js'></script>\n",
    "<div id=\"mynetwork\"></div>\n",
    "<script>\n",
    "    // create a network\n",
    "    var container = document.getElementById('mynetwork');\n",
    "    var options = {configure : 'nodes,edges,layout,physics'}  ;\n",
    "    \n",
    "    // We load the JSON graph we generated from iPython input\n",
    "    var graph = window.jsonGraph;\n",
    "    \n",
    "    // Display Graph\n",
    "    var network = new vis.Network(container, graph, options);\n",
    "</script>"
   ]
  },
  {
   "cell_type": "code",
   "execution_count": null,
   "metadata": {},
   "outputs": [],
   "source": []
  }
 ],
 "metadata": {
  "kernelspec": {
   "display_name": "Python 3",
   "language": "python",
   "name": "python3"
  },
  "language_info": {
   "codemirror_mode": {
    "name": "ipython",
    "version": 3
   },
   "file_extension": ".py",
   "mimetype": "text/x-python",
   "name": "python",
   "nbconvert_exporter": "python",
   "pygments_lexer": "ipython3",
   "version": "3.6.9"
  }
 },
 "nbformat": 4,
 "nbformat_minor": 4
}
