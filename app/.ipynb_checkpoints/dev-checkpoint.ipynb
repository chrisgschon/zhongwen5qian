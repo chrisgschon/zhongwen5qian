{
 "cells": [
  {
   "cell_type": "code",
   "execution_count": 1,
   "metadata": {},
   "outputs": [],
   "source": [
    "# from neo import NeoGraph\n",
    "# from db import Db\n",
    "\n",
    "# import pandas as pd\n",
    "\n",
    "# g = NeoGraph()\n",
    "\n",
    "# db = Db()\n",
    "# eng = db.create_engine()\n",
    "# df = pd.read_sql(\"\"\"select * from words\"\"\", eng)\n",
    "\n",
    "# df['len'] = df['characters'].apply(lambda x: len(list(x)))\n",
    "# df['c1'] = df['characters'].apply(lambda x: list(x)[0])\n",
    "# df['c2'] = df['characters'].apply(lambda x: list(x)[1] if len(x) >= 2 else None)\n",
    "# df['p1'] = df['pinyin'].apply(lambda x: x.split(' ')[0])\n",
    "# df['p2'] = df['pinyin'].apply(lambda x: x.split(' ')[1] if ' ' in x else None)\n",
    "# df['english'] = df['english'].apply(lambda x: x.replace(\"'\", \"\\\\'\"))\n",
    "# df['english_short'] = df['english'].apply(lambda x: x.split(';')[0])\n",
    "# df['descr'] = df.apply(lambda x: f\"\"\"{x['pinyin']} | {x['english_short']}\"\"\",axis = 1)\n",
    "\n",
    "# helper = []\n",
    "# chars = []\n",
    "# for i, c in df.iterrows():\n",
    "#     for h, p in zip(list(c['characters']), c['pinyin'].split(' ')):\n",
    "#         helper.append(f'{h} : {p}')\n",
    "#         chars.append(h)\n",
    "\n",
    "# g.add_characters(list(set(chars)), df)\n",
    "\n",
    "# g.create_links(df[df['len'] == 2])"
   ]
  },
  {
   "cell_type": "code",
   "execution_count": 2,
   "metadata": {},
   "outputs": [],
   "source": [
    "from neo import NeoGraph\n",
    "from db import Db"
   ]
  },
  {
   "cell_type": "code",
   "execution_count": 81,
   "metadata": {},
   "outputs": [],
   "source": [
    "g = NeoGraph()"
   ]
  },
  {
   "cell_type": "code",
   "execution_count": 102,
   "metadata": {},
   "outputs": [],
   "source": [
    "out_links = g.run_query(\"\"\"match path = (source:Character)-[link:WORD]->(target:Character)\n",
    "where source.strokes = '上'\n",
    "return source,link,target\"\"\")"
   ]
  },
  {
   "cell_type": "code",
   "execution_count": 103,
   "metadata": {},
   "outputs": [],
   "source": [
    "in_links = g.run_query(\"\"\"match path = (target:Character)<-[link:WORD]-(source:Character)\n",
    "where target.strokes = '上'\n",
    "return source,link,target\"\"\")"
   ]
  },
  {
   "cell_type": "code",
   "execution_count": 83,
   "metadata": {},
   "outputs": [],
   "source": [
    "root_node = g.run_query(\"\"\"match (n:Character)\n",
    "where n.strokes = '上'\n",
    "return distinct n\"\"\")"
   ]
  },
  {
   "cell_type": "code",
   "execution_count": 84,
   "metadata": {},
   "outputs": [],
   "source": [
    "connected_nodes = g.run_query(\"\"\"MATCH (n {strokes : '上'})-[:WORD]-(connected)\n",
    "RETURN distinct connected\"\"\")\n",
    "\n",
    "#t = g.run_query(\"\"\"MATCH (n {strokes : '上'}) MATCH (n)-[r]-() RETURN n,r\"\"\")"
   ]
  },
  {
   "cell_type": "code",
   "execution_count": 85,
   "metadata": {},
   "outputs": [],
   "source": [
    "nodes = [node['n'] for node in root_node]  + [node['connected'] for node in connected_nodes]"
   ]
  },
  {
   "cell_type": "code",
   "execution_count": 86,
   "metadata": {},
   "outputs": [],
   "source": [
    "import json"
   ]
  },
  {
   "cell_type": "code",
   "execution_count": 87,
   "metadata": {},
   "outputs": [
    {
     "data": {
      "text/plain": [
       "[Node('Character', descr='shang4 | on', strokes='上'),\n",
       " Node('Character', strokes='早'),\n",
       " Node('Character', strokes='晚'),\n",
       " Node('Character', strokes='游'),\n",
       " Node('Character', strokes='瘾'),\n",
       " Node('Character', strokes='午'),\n",
       " Node('Character', strokes='网'),\n",
       " Node('Character', strokes='任'),\n",
       " Node('Character', strokes='级'),\n",
       " Node('Character', descr='dang1 | to be', strokes='当'),\n",
       " Node('Character', descr='ban1 | team', strokes='班'),\n",
       " Node('Character', descr='ma3 | horse', strokes='马')]"
      ]
     },
     "execution_count": 87,
     "metadata": {},
     "output_type": "execute_result"
    }
   ],
   "source": [
    "nodes"
   ]
  },
  {
   "cell_type": "code",
   "execution_count": 88,
   "metadata": {},
   "outputs": [],
   "source": [
    "nodesj = json.loads(json.dumps(nodes))"
   ]
  },
  {
   "cell_type": "code",
   "execution_count": 89,
   "metadata": {},
   "outputs": [
    {
     "data": {
      "text/plain": [
       "[{'descr': 'shang4 | on', 'strokes': '上'},\n",
       " {'strokes': '早'},\n",
       " {'strokes': '晚'},\n",
       " {'strokes': '游'},\n",
       " {'strokes': '瘾'},\n",
       " {'strokes': '午'},\n",
       " {'strokes': '网'},\n",
       " {'strokes': '任'},\n",
       " {'strokes': '级'},\n",
       " {'descr': 'dang1 | to be', 'strokes': '当'},\n",
       " {'descr': 'ban1 | team', 'strokes': '班'},\n",
       " {'descr': 'ma3 | horse', 'strokes': '马'}]"
      ]
     },
     "execution_count": 89,
     "metadata": {},
     "output_type": "execute_result"
    }
   ],
   "source": [
    "nodesj"
   ]
  },
  {
   "cell_type": "code",
   "execution_count": 113,
   "metadata": {},
   "outputs": [],
   "source": [
    "nodes_plt = nodesj.copy()"
   ]
  },
  {
   "cell_type": "code",
   "execution_count": 114,
   "metadata": {},
   "outputs": [
    {
     "data": {
      "text/plain": [
       "[{'id': '上', 'label': 'shang4 | on'},\n",
       " {'id': '早', 'label': None},\n",
       " {'id': '晚', 'label': None},\n",
       " {'id': '游', 'label': None},\n",
       " {'id': '瘾', 'label': None},\n",
       " {'id': '午', 'label': None},\n",
       " {'id': '网', 'label': None},\n",
       " {'id': '任', 'label': None},\n",
       " {'id': '级', 'label': None},\n",
       " {'id': '当', 'label': 'dang1 | to be'},\n",
       " {'id': '班', 'label': 'ban1 | team'},\n",
       " {'id': '马', 'label': 'ma3 | horse'}]"
      ]
     },
     "execution_count": 114,
     "metadata": {},
     "output_type": "execute_result"
    }
   ],
   "source": [
    "nodes_plt"
   ]
  },
  {
   "cell_type": "code",
   "execution_count": 115,
   "metadata": {},
   "outputs": [
    {
     "ename": "KeyError",
     "evalue": "'strokes'",
     "output_type": "error",
     "traceback": [
      "\u001b[0;31m\u001b[0m",
      "\u001b[0;31mKeyError\u001b[0mTraceback (most recent call last)",
      "\u001b[0;32m<ipython-input-115-e5e8e44bc053>\u001b[0m in \u001b[0;36m<module>\u001b[0;34m\u001b[0m\n\u001b[1;32m      1\u001b[0m \u001b[0;32mfor\u001b[0m \u001b[0mx\u001b[0m \u001b[0;32min\u001b[0m \u001b[0mnodes_plt\u001b[0m\u001b[0;34m:\u001b[0m\u001b[0;34m\u001b[0m\u001b[0;34m\u001b[0m\u001b[0m\n\u001b[0;32m----> 2\u001b[0;31m     \u001b[0mx\u001b[0m\u001b[0;34m[\u001b[0m\u001b[0;34m'id'\u001b[0m\u001b[0;34m]\u001b[0m \u001b[0;34m=\u001b[0m \u001b[0mx\u001b[0m\u001b[0;34m.\u001b[0m\u001b[0mpop\u001b[0m\u001b[0;34m(\u001b[0m\u001b[0;34m'strokes'\u001b[0m\u001b[0;34m)\u001b[0m\u001b[0;34m\u001b[0m\u001b[0;34m\u001b[0m\u001b[0m\n\u001b[0m\u001b[1;32m      3\u001b[0m     \u001b[0mx\u001b[0m\u001b[0;34m[\u001b[0m\u001b[0;34m'label'\u001b[0m\u001b[0;34m]\u001b[0m \u001b[0;34m=\u001b[0m \u001b[0mx\u001b[0m\u001b[0;34m.\u001b[0m\u001b[0mget\u001b[0m\u001b[0;34m(\u001b[0m\u001b[0;34m'id'\u001b[0m\u001b[0;34m)\u001b[0m\u001b[0;34m\u001b[0m\u001b[0;34m\u001b[0m\u001b[0m\n\u001b[1;32m      4\u001b[0m     \u001b[0mx\u001b[0m\u001b[0;34m.\u001b[0m\u001b[0mpop\u001b[0m\u001b[0;34m(\u001b[0m\u001b[0;34m'descr'\u001b[0m\u001b[0;34m,\u001b[0m \u001b[0;32mNone\u001b[0m\u001b[0;34m)\u001b[0m\u001b[0;34m\u001b[0m\u001b[0;34m\u001b[0m\u001b[0m\n",
      "\u001b[0;31mKeyError\u001b[0m: 'strokes'"
     ]
    }
   ],
   "source": [
    "for x in nodes_plt:\n",
    "    x['id'] = x.pop('strokes')\n",
    "    x['label'] = x.get('id')\n",
    "    x.pop('descr', None)"
   ]
  },
  {
   "cell_type": "code",
   "execution_count": 112,
   "metadata": {},
   "outputs": [
    {
     "data": {
      "text/plain": [
       "[{'id': '上', 'label': 'shang4 | on'},\n",
       " {'id': '早', 'label': None},\n",
       " {'id': '晚', 'label': None},\n",
       " {'id': '游', 'label': None},\n",
       " {'id': '瘾', 'label': None},\n",
       " {'id': '午', 'label': None},\n",
       " {'id': '网', 'label': None},\n",
       " {'id': '任', 'label': None},\n",
       " {'id': '级', 'label': None},\n",
       " {'id': '当', 'label': 'dang1 | to be'},\n",
       " {'id': '班', 'label': 'ban1 | team'},\n",
       " {'id': '马', 'label': 'ma3 | horse'}]"
      ]
     },
     "execution_count": 112,
     "metadata": {},
     "output_type": "execute_result"
    }
   ],
   "source": [
    "nodes_plt"
   ]
  },
  {
   "cell_type": "code",
   "execution_count": 94,
   "metadata": {},
   "outputs": [],
   "source": [
    "nodes_out = nodes_plt.copy()"
   ]
  },
  {
   "cell_type": "code",
   "execution_count": 104,
   "metadata": {},
   "outputs": [],
   "source": [
    "linksj = json.loads(json.dumps(out_links)) + json.loads(json.dumps(in_links))"
   ]
  },
  {
   "cell_type": "code",
   "execution_count": 105,
   "metadata": {},
   "outputs": [
    {
     "data": {
      "text/plain": [
       "[{'source': {'descr': 'shang4 | on', 'strokes': '上'},\n",
       "  'link': {'english': 'upper reaches; advanced position',\n",
       "   'characters': '上游',\n",
       "   'descr': 'shang4 you2 | upper reaches',\n",
       "   'pinyin': 'shang4 you2'},\n",
       "  'target': {'strokes': '游'}},\n",
       " {'source': {'descr': 'shang4 | on', 'strokes': '上'},\n",
       "  'link': {'english': 'to get into a habit; to become addicted',\n",
       "   'descr': 'shang4 yin3 | to get into a habit',\n",
       "   'characters': '上瘾',\n",
       "   'pinyin': 'shang4 yin3'},\n",
       "  'target': {'strokes': '瘾'}},\n",
       " {'source': {'descr': 'shang4 | on', 'strokes': '上'},\n",
       "  'link': {'english': 'morning; CL:個|个[ge4]',\n",
       "   'characters': '上午',\n",
       "   'descr': 'shang4 wu3 | morning',\n",
       "   'pinyin': 'shang4 wu3'},\n",
       "  'target': {'strokes': '午'}},\n",
       " {'source': {'descr': 'shang4 | on', 'strokes': '上'},\n",
       "  'link': {'english': 'to be on the internet; to stretch a net (in a sports game or for covering sth); to be netted (of fish)',\n",
       "   'descr': 'shang4 wang3 | to be on the internet',\n",
       "   'characters': '上网',\n",
       "   'pinyin': 'shang4 wang3'},\n",
       "  'target': {'strokes': '网'}},\n",
       " {'source': {'descr': 'shang4 | on', 'strokes': '上'},\n",
       "  'link': {'english': 'take office',\n",
       "   'characters': '上任',\n",
       "   'descr': 'shang4 ren4 | take office',\n",
       "   'pinyin': 'shang4 ren4'},\n",
       "  'target': {'strokes': '任'}},\n",
       " {'source': {'descr': 'shang4 | on', 'strokes': '上'},\n",
       "  'link': {'english': 'higher authorities; superiors; CL:個|个[ge4]',\n",
       "   'descr': 'shang4 ji2 | higher authorities',\n",
       "   'characters': '上级',\n",
       "   'pinyin': 'shang4 ji2'},\n",
       "  'target': {'strokes': '级'}},\n",
       " {'source': {'descr': 'shang4 | on', 'strokes': '上'},\n",
       "  'link': {'english': \"taken in (by sb's deceit); to be fooled; to be duped\",\n",
       "   'descr': \"shang4 dang4 | taken in (by sb's deceit)\",\n",
       "   'characters': '上当',\n",
       "   'pinyin': 'shang4 dang4'},\n",
       "  'target': {'descr': 'dang1 | to be', 'strokes': '当'}},\n",
       " {'source': {'descr': 'shang4 | on', 'strokes': '上'},\n",
       "  'link': {'english': 'to go to work; to be on duty; to start work; to go to the office',\n",
       "   'characters': '上班',\n",
       "   'descr': 'shang4 ban1 | to go to work',\n",
       "   'pinyin': 'shang4 ban1'},\n",
       "  'target': {'descr': 'ban1 | team', 'strokes': '班'}},\n",
       " {'source': {'strokes': '早'},\n",
       "  'link': {'english': 'early morning; CL:個|个[ge4]; Good morning!',\n",
       "   'characters': '早上',\n",
       "   'descr': 'zao3 shang5 | early morning',\n",
       "   'pinyin': 'zao3 shang5'},\n",
       "  'target': {'descr': 'shang4 | on', 'strokes': '上'}},\n",
       " {'source': {'strokes': '晚'},\n",
       "  'link': {'english': 'in the evening; CL:個|个[ge4]',\n",
       "   'descr': 'wan3 shang5 | in the evening',\n",
       "   'characters': '晚上',\n",
       "   'pinyin': 'wan3 shang5'},\n",
       "  'target': {'descr': 'shang4 | on', 'strokes': '上'}},\n",
       " {'source': {'descr': 'ma3 | horse', 'strokes': '马'},\n",
       "  'link': {'english': 'at once, right away, immediately; lit. on horseback',\n",
       "   'descr': 'ma3 shang4 | at once, right away, immediately',\n",
       "   'characters': '马上',\n",
       "   'pinyin': 'ma3 shang4'},\n",
       "  'target': {'descr': 'shang4 | on', 'strokes': '上'}}]"
      ]
     },
     "execution_count": 105,
     "metadata": {},
     "output_type": "execute_result"
    }
   ],
   "source": [
    "linksj"
   ]
  },
  {
   "cell_type": "code",
   "execution_count": 106,
   "metadata": {},
   "outputs": [],
   "source": [
    "links_plt = []"
   ]
  },
  {
   "cell_type": "code",
   "execution_count": 107,
   "metadata": {},
   "outputs": [],
   "source": [
    "for link in linksj:\n",
    "    links_plt.append({'from':link['source']['strokes'], 'to':link['target']['strokes'], 'label' : link['link']['descr']})"
   ]
  },
  {
   "cell_type": "code",
   "execution_count": 108,
   "metadata": {},
   "outputs": [
    {
     "data": {
      "text/plain": [
       "[{'from': '上', 'to': '游', 'label': 'shang4 you2 | upper reaches'},\n",
       " {'from': '上', 'to': '瘾', 'label': 'shang4 yin3 | to get into a habit'},\n",
       " {'from': '上', 'to': '午', 'label': 'shang4 wu3 | morning'},\n",
       " {'from': '上', 'to': '网', 'label': 'shang4 wang3 | to be on the internet'},\n",
       " {'from': '上', 'to': '任', 'label': 'shang4 ren4 | take office'},\n",
       " {'from': '上', 'to': '级', 'label': 'shang4 ji2 | higher authorities'},\n",
       " {'from': '上', 'to': '当', 'label': \"shang4 dang4 | taken in (by sb's deceit)\"},\n",
       " {'from': '上', 'to': '班', 'label': 'shang4 ban1 | to go to work'},\n",
       " {'from': '早', 'to': '上', 'label': 'zao3 shang5 | early morning'},\n",
       " {'from': '晚', 'to': '上', 'label': 'wan3 shang5 | in the evening'},\n",
       " {'from': '马',\n",
       "  'to': '上',\n",
       "  'label': 'ma3 shang4 | at once, right away, immediately'}]"
      ]
     },
     "execution_count": 108,
     "metadata": {},
     "output_type": "execute_result"
    }
   ],
   "source": [
    "links_plt"
   ]
  },
  {
   "cell_type": "code",
   "execution_count": 109,
   "metadata": {},
   "outputs": [],
   "source": [
    "out = {'nodes':nodes_out, 'edges':links_plt}"
   ]
  },
  {
   "cell_type": "code",
   "execution_count": 110,
   "metadata": {},
   "outputs": [],
   "source": [
    "with open('shang4.json', 'w') as outfile:\n",
    "    json.dump(out, outfile)"
   ]
  },
  {
   "cell_type": "code",
   "execution_count": null,
   "metadata": {},
   "outputs": [],
   "source": []
  }
 ],
 "metadata": {
  "kernelspec": {
   "display_name": "Python 3",
   "language": "python",
   "name": "python3"
  },
  "language_info": {
   "codemirror_mode": {
    "name": "ipython",
    "version": 3
   },
   "file_extension": ".py",
   "mimetype": "text/x-python",
   "name": "python",
   "nbconvert_exporter": "python",
   "pygments_lexer": "ipython3",
   "version": "3.6.9"
  }
 },
 "nbformat": 4,
 "nbformat_minor": 4
}
